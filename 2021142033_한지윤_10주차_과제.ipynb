{
  "nbformat": 4,
  "nbformat_minor": 0,
  "metadata": {
    "colab": {
      "provenance": [],
      "authorship_tag": "ABX9TyMjIHP09bVlOKrnl7dFKq/V",
      "include_colab_link": true
    },
    "kernelspec": {
      "name": "python3",
      "display_name": "Python 3"
    },
    "language_info": {
      "name": "python"
    }
  },
  "cells": [
    {
      "cell_type": "markdown",
      "metadata": {
        "id": "view-in-github",
        "colab_type": "text"
      },
      "source": [
        "<a href=\"https://colab.research.google.com/github/jiyun126/-/blob/main/2021142033_%ED%95%9C%EC%A7%80%EC%9C%A4_10%EC%A3%BC%EC%B0%A8_%EA%B3%BC%EC%A0%9C.ipynb\" target=\"_parent\"><img src=\"https://colab.research.google.com/assets/colab-badge.svg\" alt=\"Open In Colab\"/></a>"
      ]
    },
    {
      "cell_type": "code",
      "execution_count": 1,
      "metadata": {
        "id": "ivYY0YzgK2dM"
      },
      "outputs": [],
      "source": [
        "import numpy as np"
      ]
    },
    {
      "cell_type": "code",
      "source": [
        "X = np.array([[0, 0], [0, 1], [1, 0], [1, 1]])\n",
        "Y = np.array([[0], [1], [1], [0]])"
      ],
      "metadata": {
        "id": "7N_tA7W8K3fq"
      },
      "execution_count": 2,
      "outputs": []
    },
    {
      "cell_type": "code",
      "source": [
        "input_size = 2\n",
        "hidden_size = 3\n",
        "output_size = 1\n",
        "learning_rate = 0.01\n",
        "epochs = 50"
      ],
      "metadata": {
        "id": "1PU5smeLK4-A"
      },
      "execution_count": 3,
      "outputs": []
    },
    {
      "cell_type": "code",
      "source": [
        "def sigmoid(x):\n",
        "    return 1 / (1 + np.exp(-x))\n",
        "\n",
        "def sigmoid_deriv(x):\n",
        "    return sigmoid(x) * (1 - sigmoid(x))"
      ],
      "metadata": {
        "id": "sGIlJEMhK58c"
      },
      "execution_count": 4,
      "outputs": []
    },
    {
      "cell_type": "code",
      "source": [
        "def mse(y_true, y_pred):\n",
        "    return np.mean((y_true - y_pred) ** 2)\n",
        "\n",
        "def mape(y_true, y_pred):\n",
        "    return np.mean(np.abs((y_true - y_pred) / (y_true + 1e-8))) * 100"
      ],
      "metadata": {
        "id": "_eLleTLNK6-r"
      },
      "execution_count": 5,
      "outputs": []
    },
    {
      "cell_type": "code",
      "source": [
        "np.random.seed(42)\n",
        "W1 = np.random.randn(input_size, hidden_size)\n",
        "b1 = np.zeros((1, hidden_size))\n",
        "W2 = np.random.randn(hidden_size, output_size)\n",
        "b2 = np.zeros((1, output_size))"
      ],
      "metadata": {
        "id": "F3_Rva7OK75d"
      },
      "execution_count": 6,
      "outputs": []
    },
    {
      "cell_type": "code",
      "source": [
        "for epoch in range(epochs):\n",
        "    Z1 = np.dot(X, W1) + b1\n",
        "    H = sigmoid(Z1)\n",
        "    Z2 = np.dot(H, W2) + b2\n",
        "    Y_hat = sigmoid(Z2)\n",
        "\n",
        "    loss_mse = mse(Y, Y_hat)\n",
        "    loss_mape = mape(Y, Y_hat)\n",
        "\n",
        "    dZ2 = (Y_hat - Y) * sigmoid_deriv(Z2)\n",
        "    dW2 = np.dot(H.T, dZ2)\n",
        "    db2 = np.sum(dZ2, axis=0, keepdims=True)\n",
        "\n",
        "    dH = np.dot(dZ2, W2.T) * sigmoid_deriv(Z1)\n",
        "    dW1 = np.dot(X.T, dH)\n",
        "    db1 = np.sum(dH, axis=0, keepdims=True)\n",
        "\n",
        "    W2 -= learning_rate * dW2\n",
        "    b2 -= learning_rate * db2\n",
        "    W1 -= learning_rate * dW1\n",
        "    b1 -= learning_rate * db1\n",
        "\n",
        "    print(f\"Epoch {epoch+1}/{epochs} - MSE: {loss_mse:.4f}, MAPE: {loss_mape:.2f}%\")"
      ],
      "metadata": {
        "colab": {
          "base_uri": "https://localhost:8080/"
        },
        "id": "a4DWfnWAK8u9",
        "outputId": "7d61f557-d09d-4c0a-9fb6-f31965847ba0"
      },
      "execution_count": 8,
      "outputs": [
        {
          "output_type": "stream",
          "name": "stdout",
          "text": [
            "Epoch 1/50 - MSE: 0.3182, MAPE: 3812220799.31%\n",
            "Epoch 2/50 - MSE: 0.3179, MAPE: 3808635035.02%\n",
            "Epoch 3/50 - MSE: 0.3175, MAPE: 3805044518.90%\n",
            "Epoch 4/50 - MSE: 0.3171, MAPE: 3801449332.98%\n",
            "Epoch 5/50 - MSE: 0.3167, MAPE: 3797849559.87%\n",
            "Epoch 6/50 - MSE: 0.3164, MAPE: 3794245282.77%\n",
            "Epoch 7/50 - MSE: 0.3160, MAPE: 3790636585.44%\n",
            "Epoch 8/50 - MSE: 0.3156, MAPE: 3787023552.24%\n",
            "Epoch 9/50 - MSE: 0.3152, MAPE: 3783406268.05%\n",
            "Epoch 10/50 - MSE: 0.3149, MAPE: 3779784818.32%\n",
            "Epoch 11/50 - MSE: 0.3145, MAPE: 3776159289.03%\n",
            "Epoch 12/50 - MSE: 0.3141, MAPE: 3772529766.70%\n",
            "Epoch 13/50 - MSE: 0.3137, MAPE: 3768896338.34%\n",
            "Epoch 14/50 - MSE: 0.3134, MAPE: 3765259091.51%\n",
            "Epoch 15/50 - MSE: 0.3130, MAPE: 3761618114.22%\n",
            "Epoch 16/50 - MSE: 0.3126, MAPE: 3757973495.00%\n",
            "Epoch 17/50 - MSE: 0.3123, MAPE: 3754325322.85%\n",
            "Epoch 18/50 - MSE: 0.3119, MAPE: 3750673687.23%\n",
            "Epoch 19/50 - MSE: 0.3115, MAPE: 3747018678.05%\n",
            "Epoch 20/50 - MSE: 0.3112, MAPE: 3743360385.68%\n",
            "Epoch 21/50 - MSE: 0.3108, MAPE: 3739698900.91%\n",
            "Epoch 22/50 - MSE: 0.3104, MAPE: 3736034314.96%\n",
            "Epoch 23/50 - MSE: 0.3101, MAPE: 3732366719.44%\n",
            "Epoch 24/50 - MSE: 0.3097, MAPE: 3728696206.39%\n",
            "Epoch 25/50 - MSE: 0.3093, MAPE: 3725022868.20%\n",
            "Epoch 26/50 - MSE: 0.3090, MAPE: 3721346797.67%\n",
            "Epoch 27/50 - MSE: 0.3086, MAPE: 3717668087.95%\n",
            "Epoch 28/50 - MSE: 0.3083, MAPE: 3713986832.52%\n",
            "Epoch 29/50 - MSE: 0.3079, MAPE: 3710303125.23%\n",
            "Epoch 30/50 - MSE: 0.3075, MAPE: 3706617060.24%\n",
            "Epoch 31/50 - MSE: 0.3072, MAPE: 3702928732.03%\n",
            "Epoch 32/50 - MSE: 0.3068, MAPE: 3699238235.38%\n",
            "Epoch 33/50 - MSE: 0.3065, MAPE: 3695545665.36%\n",
            "Epoch 34/50 - MSE: 0.3061, MAPE: 3691851117.32%\n",
            "Epoch 35/50 - MSE: 0.3057, MAPE: 3688154686.87%\n",
            "Epoch 36/50 - MSE: 0.3054, MAPE: 3684456469.88%\n",
            "Epoch 37/50 - MSE: 0.3050, MAPE: 3680756562.44%\n",
            "Epoch 38/50 - MSE: 0.3047, MAPE: 3677055060.89%\n",
            "Epoch 39/50 - MSE: 0.3043, MAPE: 3673352061.76%\n",
            "Epoch 40/50 - MSE: 0.3040, MAPE: 3669647661.81%\n",
            "Epoch 41/50 - MSE: 0.3036, MAPE: 3665941957.96%\n",
            "Epoch 42/50 - MSE: 0.3033, MAPE: 3662235047.32%\n",
            "Epoch 43/50 - MSE: 0.3029, MAPE: 3658527027.14%\n",
            "Epoch 44/50 - MSE: 0.3026, MAPE: 3654817994.85%\n",
            "Epoch 45/50 - MSE: 0.3023, MAPE: 3651108048.00%\n",
            "Epoch 46/50 - MSE: 0.3019, MAPE: 3647397284.25%\n",
            "Epoch 47/50 - MSE: 0.3016, MAPE: 3643685801.37%\n",
            "Epoch 48/50 - MSE: 0.3012, MAPE: 3639973697.26%\n",
            "Epoch 49/50 - MSE: 0.3009, MAPE: 3636261069.85%\n",
            "Epoch 50/50 - MSE: 0.3005, MAPE: 3632548017.18%\n"
          ]
        }
      ]
    },
    {
      "cell_type": "code",
      "source": [
        "print(\"최종 예측 결과:\")\n",
        "print(Y_hat.round(3))"
      ],
      "metadata": {
        "colab": {
          "base_uri": "https://localhost:8080/"
        },
        "id": "tdHGihUsK9p9",
        "outputId": "6c886273-f5c2-4acf-af9b-bddd9cdca7a9"
      },
      "execution_count": 9,
      "outputs": [
        {
          "output_type": "stream",
          "name": "stdout",
          "text": [
            "최종 예측 결과:\n",
            "[[0.681]\n",
            " [0.774]\n",
            " [0.698]\n",
            " [0.772]]\n"
          ]
        }
      ]
    }
  ]
}