{
  "cells": [
    {
      "cell_type": "markdown",
      "metadata": {
        "id": "view-in-github",
        "colab_type": "text"
      },
      "source": [
        "<a href=\"https://colab.research.google.com/github/jiyun126/-/blob/main/11%EC%A3%BC%EC%B0%A8%EA%B3%BC%EC%A0%9C_%EB%AA%A8%EB%B2%94%EB%8B%B5%EC%95%88.ipynb\" target=\"_parent\"><img src=\"https://colab.research.google.com/assets/colab-badge.svg\" alt=\"Open In Colab\"/></a>"
      ]
    },
    {
      "cell_type": "markdown",
      "id": "f841f004-0735-4313-943b-5dbc37213679",
      "metadata": {
        "id": "f841f004-0735-4313-943b-5dbc37213679"
      },
      "source": [
        "# 1번 문제\n",
        "- convolution layer 2개\n",
        "- fully connected layer 1개"
      ]
    },
    {
      "cell_type": "markdown",
      "id": "80e18078-6bc3-42c9-aa16-82284c9603ca",
      "metadata": {
        "id": "80e18078-6bc3-42c9-aa16-82284c9603ca"
      },
      "source": [
        "## 라이브러리 호출"
      ]
    },
    {
      "cell_type": "code",
      "execution_count": null,
      "id": "62693f75-413d-4838-90f3-16541e606efa",
      "metadata": {
        "id": "62693f75-413d-4838-90f3-16541e606efa",
        "outputId": "041fda91-0e38-4845-925c-c5d692ca3597"
      },
      "outputs": [
        {
          "name": "stdout",
          "output_type": "stream",
          "text": [
            "WARNING:tensorflow:From C:\\Users\\KMS\\AppData\\Local\\Temp\\ipykernel_11300\\3975618253.py:2: The name tf.disable_v2_behavior is deprecated. Please use tf.compat.v1.disable_v2_behavior instead.\n",
            "\n",
            "WARNING:tensorflow:From C:\\anaconda\\Lib\\site-packages\\tensorflow\\python\\compat\\v2_compat.py:98: disable_resource_variables (from tensorflow.python.ops.resource_variables_toggle) is deprecated and will be removed in a future version.\n",
            "Instructions for updating:\n",
            "non-resource variables are not supported in the long term\n"
          ]
        }
      ],
      "source": [
        "import tensorflow.compat.v1 as tf\n",
        "tf.disable_v2_behavior()\n",
        "import numpy as np\n",
        "import matplotlib.pyplot as plt\n",
        "from tensorflow.keras.datasets import mnist\n",
        "from tensorflow.keras.utils import to_categorical"
      ]
    },
    {
      "cell_type": "markdown",
      "id": "007713ed-c338-475b-86b5-024670f6cbe8",
      "metadata": {
        "id": "007713ed-c338-475b-86b5-024670f6cbe8"
      },
      "source": [
        "## 데이터 불러오기"
      ]
    },
    {
      "cell_type": "code",
      "execution_count": null,
      "id": "924f1734-7731-4f1a-8380-da496d96eff8",
      "metadata": {
        "id": "924f1734-7731-4f1a-8380-da496d96eff8"
      },
      "outputs": [],
      "source": [
        "(train_x, train_y), (test_x, test_y) = mnist.load_data()\n",
        "train_x, test_x = train_x / 255.0, test_x / 255.0\n",
        "train_x = train_x.reshape((-1, 28, 28, 1))\n",
        "test_x = test_x.reshape((-1, 28, 28, 1))"
      ]
    },
    {
      "cell_type": "markdown",
      "id": "33fc5901-602c-4e99-8318-55ca53d24dae",
      "metadata": {
        "id": "33fc5901-602c-4e99-8318-55ca53d24dae"
      },
      "source": [
        "## 커널 설정"
      ]
    },
    {
      "cell_type": "code",
      "execution_count": null,
      "id": "906d1a59-afc8-4096-b7b1-e9a9c557d0de",
      "metadata": {
        "id": "906d1a59-afc8-4096-b7b1-e9a9c557d0de"
      },
      "outputs": [],
      "source": [
        "input_h = 28\n",
        "input_w = 28\n",
        "input_ch = 1\n",
        "\n",
        "k1_h = 3\n",
        "k1_w = 3\n",
        "k1_ch = 32\n",
        "p1_h = 2\n",
        "p1_w = 2\n",
        "\n",
        "k2_h = 3\n",
        "k2_w = 3\n",
        "k2_ch = 64\n",
        "p2_h = 2\n",
        "p2_w = 2\n",
        "\n",
        "conv_result_size = 7 * 7 * 64\n",
        "n_hidden = 100\n",
        "n_output = 10"
      ]
    },
    {
      "cell_type": "markdown",
      "id": "adffa76d-df39-4a58-9815-dfbf9c13912a",
      "metadata": {
        "id": "adffa76d-df39-4a58-9815-dfbf9c13912a"
      },
      "source": [
        "## 가중치 설정"
      ]
    },
    {
      "cell_type": "code",
      "execution_count": null,
      "id": "e59f3ea3-de29-4296-a828-7f7c4d3d6f79",
      "metadata": {
        "id": "e59f3ea3-de29-4296-a828-7f7c4d3d6f79"
      },
      "outputs": [],
      "source": [
        "weights = {\n",
        "    'conv1': tf.Variable(tf.random.normal([k1_h, k1_w, input_ch, k1_ch], stddev=0.1)),\n",
        "    'conv2': tf.Variable(tf.random.normal([k2_h, k2_w, k1_ch, k2_ch], stddev=0.1)),\n",
        "    'hidden': tf.Variable(tf.random.normal([conv_result_size, n_hidden], stddev=0.1)),\n",
        "    'output': tf.Variable(tf.random.normal([n_hidden, n_output], stddev=0.1))\n",
        "}\n",
        "\n",
        "biases = {\n",
        "    'conv1': tf.Variable(tf.random.normal([k1_ch], stddev=0.1)),\n",
        "    'conv2': tf.Variable(tf.random.normal([k2_ch], stddev=0.1)),\n",
        "    'hidden': tf.Variable(tf.random.normal([n_hidden], stddev=0.1)),\n",
        "    'output': tf.Variable(tf.random.normal([n_output], stddev=0.1))\n",
        "}\n",
        "\n",
        "x = tf.placeholder(tf.float32, [None, input_h, input_w, input_ch])\n",
        "y = tf.placeholder(tf.float32, [None, n_output])"
      ]
    },
    {
      "cell_type": "markdown",
      "id": "61edf679-cb45-49f9-87a2-4358bc34d3f1",
      "metadata": {
        "id": "61edf679-cb45-49f9-87a2-4358bc34d3f1"
      },
      "source": [
        "## 모델 설계"
      ]
    },
    {
      "cell_type": "code",
      "execution_count": null,
      "id": "b82d72bb-2b52-4cc5-b5b3-1c9d436f7eeb",
      "metadata": {
        "id": "b82d72bb-2b52-4cc5-b5b3-1c9d436f7eeb"
      },
      "outputs": [],
      "source": [
        "def net(x, weights, biases):\n",
        "    conv1 = tf.nn.conv2d(x, weights['conv1'], strides=[1,1,1,1], padding='SAME')\n",
        "    conv1 = tf.nn.relu(conv1 + biases['conv1'])\n",
        "    maxp1 = tf.nn.max_pool2d(conv1, ksize=[1, p1_h, p1_w, 1], strides=[1, p1_h, p1_w, 1], padding='SAME')\n",
        "\n",
        "    conv2 = tf.nn.conv2d(maxp1, weights['conv2'], strides=[1,1,1,1], padding='SAME')\n",
        "    conv2 = tf.nn.relu(conv2 + biases['conv2'])\n",
        "    maxp2 = tf.nn.max_pool2d(conv2, ksize=[1, p2_h, p2_w, 1], strides=[1, p2_h, p2_w, 1], padding='SAME')\n",
        "\n",
        "    flatten = tf.reshape(maxp2, [-1, conv_result_size])\n",
        "    fc1 = tf.nn.relu(tf.matmul(flatten, weights['hidden']) + biases['hidden'])\n",
        "    output = tf.matmul(fc1, weights['output']) + biases['output']\n",
        "    return output"
      ]
    },
    {
      "cell_type": "markdown",
      "id": "10d4e41d-f904-4a3c-be9d-13c3252cf962",
      "metadata": {
        "id": "10d4e41d-f904-4a3c-be9d-13c3252cf962"
      },
      "source": [
        "## 하이퍼파라미터, 손실함수 설정"
      ]
    },
    {
      "cell_type": "code",
      "execution_count": null,
      "id": "05755a3a-8163-483d-a6c0-4d8fbc42d0bf",
      "metadata": {
        "id": "05755a3a-8163-483d-a6c0-4d8fbc42d0bf",
        "outputId": "8ff39cb0-5b53-4e25-ee21-e8b17d325564"
      },
      "outputs": [
        {
          "name": "stdout",
          "output_type": "stream",
          "text": [
            "WARNING:tensorflow:From C:\\Users\\KMS\\AppData\\Local\\Temp\\ipykernel_11300\\1087692084.py:4: The name tf.train.AdamOptimizer is deprecated. Please use tf.compat.v1.train.AdamOptimizer instead.\n",
            "\n"
          ]
        }
      ],
      "source": [
        "LR = 0.0001\n",
        "pred = net(x, weights, biases)\n",
        "loss = tf.reduce_mean(tf.nn.softmax_cross_entropy_with_logits_v2(logits=pred, labels=y))\n",
        "optm = tf.train.AdamOptimizer(learning_rate=LR).minimize(loss)"
      ]
    },
    {
      "cell_type": "markdown",
      "id": "4397c6fb-8907-4450-b29a-da49d1b309a5",
      "metadata": {
        "id": "4397c6fb-8907-4450-b29a-da49d1b309a5"
      },
      "source": [
        "## 학습"
      ]
    },
    {
      "cell_type": "code",
      "execution_count": null,
      "id": "6e5f518d-b975-4666-95a6-ac38a1e477c8",
      "metadata": {
        "id": "6e5f518d-b975-4666-95a6-ac38a1e477c8",
        "outputId": "bb49b6c8-9708-4aea-d23d-34b93cb678fe"
      },
      "outputs": [
        {
          "name": "stdout",
          "output_type": "stream",
          "text": [
            "Iter : 0\n",
            "Train Loss : 2.5821\n",
            "Test Loss : 2.6152\n",
            "Iter : 250\n",
            "Train Loss : 0.3911\n",
            "Test Loss : 0.5451\n",
            "Iter : 500\n",
            "Train Loss : 0.3723\n",
            "Test Loss : 0.3824\n",
            "Iter : 750\n",
            "Train Loss : 0.2484\n",
            "Test Loss : 0.2956\n",
            "Iter : 1000\n",
            "Train Loss : 0.1967\n",
            "Test Loss : 0.2597\n",
            "Iter : 1250\n",
            "Train Loss : 0.0973\n",
            "Test Loss : 0.1972\n",
            "Iter : 1500\n",
            "Train Loss : 0.1034\n",
            "Test Loss : 0.0736\n",
            "Iter : 1750\n",
            "Train Loss : 0.3910\n",
            "Test Loss : 0.3463\n",
            "Iter : 2000\n",
            "Train Loss : 0.0841\n",
            "Test Loss : 0.1881\n",
            "Iter : 2250\n",
            "Train Loss : 0.0823\n",
            "Test Loss : 0.1956\n"
          ]
        }
      ],
      "source": [
        "n_batch = 50\n",
        "n_iter = 2500\n",
        "n_prt = 250\n",
        "\n",
        "sess = tf.Session()\n",
        "sess.run(tf.global_variables_initializer())\n",
        "\n",
        "loss_record_train = []\n",
        "loss_record_test = []\n",
        "\n",
        "for epoch in range(n_iter):\n",
        "    # 랜덤 배치 생성\n",
        "    batch_indices = np.random.choice(train_x.shape[0], size=n_batch, replace=False)\n",
        "    batch_x = train_x[batch_indices]\n",
        "    batch_y = to_categorical(train_y[batch_indices], num_classes=10)\n",
        "\n",
        "    sess.run(optm, feed_dict={x: batch_x, y: batch_y})\n",
        "\n",
        "    if epoch % n_prt == 0:\n",
        "        # 테스트 데이터 배치\n",
        "        test_indices = np.random.choice(test_x.shape[0], size=n_batch, replace=False)\n",
        "        test_batch_x = test_x[test_indices]\n",
        "        test_batch_y = to_categorical(test_y[test_indices], num_classes=10)\n",
        "\n",
        "        train_loss = sess.run(loss, feed_dict={x: batch_x, y: batch_y})\n",
        "        test_loss = sess.run(loss, feed_dict={x: test_batch_x, y: test_batch_y})\n",
        "\n",
        "        loss_record_train.append(train_loss)\n",
        "        loss_record_test.append(test_loss)\n",
        "\n",
        "        print(\"Iter : {}\".format(epoch))\n",
        "        print(\"Train Loss : {:.4f}\".format(train_loss))\n",
        "        print(\"Test Loss : {:.4f}\".format(test_loss))"
      ]
    },
    {
      "cell_type": "markdown",
      "id": "f5a72396-950a-466d-8b1a-23b7a75b89d0",
      "metadata": {
        "id": "f5a72396-950a-466d-8b1a-23b7a75b89d0"
      },
      "source": [
        "## 로스 시각화"
      ]
    },
    {
      "cell_type": "code",
      "execution_count": null,
      "id": "6f5b51c3-038c-44ff-b17b-723c6eefa475",
      "metadata": {
        "id": "6f5b51c3-038c-44ff-b17b-723c6eefa475",
        "outputId": "f4c8d136-d477-4133-d299-c5b90b2ca3cc"
      },
      "outputs": [
        {
          "data": {
            "image/png": "[encoded data removed]",
            "text/plain": [
              "<Figure size 1000x800 with 1 Axes>"
            ]
          },
          "metadata": {},
          "output_type": "display_data"
        }
      ],
      "source": [
        "plt.figure(figsize=(10,8))\n",
        "plt.plot(np.arange(len(loss_record_train)) * n_prt, loss_record_train, 'r', label='Train')\n",
        "plt.plot(np.arange(len(loss_record_test)) * n_prt, loss_record_test, 'b', label='Test')\n",
        "plt.xlabel('Iteration', fontsize=15)\n",
        "plt.ylabel('Loss', fontsize=15)\n",
        "plt.legend(fontsize=12)\n",
        "plt.ylim([0, np.max(loss_record_train)])\n",
        "plt.grid(True)\n",
        "plt.title(\"Training vs Test Loss\")\n",
        "plt.show()"
      ]
    },
    {
      "cell_type": "markdown",
      "id": "0f6a4a70-6947-4b55-9ac0-5b0e685c3558",
      "metadata": {
        "id": "0f6a4a70-6947-4b55-9ac0-5b0e685c3558"
      },
      "source": [
        "## 정확도 출력"
      ]
    },
    {
      "cell_type": "code",
      "execution_count": null,
      "id": "a99b87cf-1ebd-413b-a7b4-3148b0cbdad9",
      "metadata": {
        "id": "a99b87cf-1ebd-413b-a7b4-3148b0cbdad9",
        "outputId": "44429a2d-1de7-4e69-def2-b3cdd9351141"
      },
      "outputs": [
        {
          "name": "stdout",
          "output_type": "stream",
          "text": [
            "Accuracy : 96.0\n"
          ]
        }
      ],
      "source": [
        "test_batch_indices = np.random.choice(test_x.shape[0], size=n_batch, replace=False)\n",
        "test_batch_x = test_x[test_batch_indices]\n",
        "test_batch_y = test_y[test_batch_indices]\n",
        "\n",
        "test_batch_x = test_batch_x.reshape((n_batch, input_h, input_w, input_ch))  # Reshape the batch if needed\n",
        "# Convert labels to one-hot encoding if necessary\n",
        "test_batch_y = tf.keras.utils.to_categorical(test_batch_y, num_classes=10)  # Adjust num_classes if needed\n",
        "\n",
        "my_pred = sess.run(pred, feed_dict={x: test_batch_x.reshape(-1, 28, 28, 1)})\n",
        "my_pred = np.argmax(my_pred, axis=1)\n",
        "\n",
        "labels = np.argmax(test_batch_y, axis=1)\n",
        "\n",
        "accr = np.mean(np.equal(my_pred, labels))\n",
        "print(\"Accuracy : {}\".format(accr*100))"
      ]
    },
    {
      "cell_type": "markdown",
      "id": "ab535729-5c04-4399-9e09-87504f85fc82",
      "metadata": {
        "id": "ab535729-5c04-4399-9e09-87504f85fc82"
      },
      "source": [
        "# 2번 문제\n",
        "- convolution layer 3개\n",
        "- fully connected layer 2개"
      ]
    },
    {
      "cell_type": "markdown",
      "id": "00b6f910-95de-4281-8b1f-a750e253076b",
      "metadata": {
        "id": "00b6f910-95de-4281-8b1f-a750e253076b"
      },
      "source": [
        "## 라이브러리 호출"
      ]
    },
    {
      "cell_type": "code",
      "execution_count": null,
      "id": "e8cb3086-bf51-4c70-b6df-d856f7cd7494",
      "metadata": {
        "id": "e8cb3086-bf51-4c70-b6df-d856f7cd7494"
      },
      "outputs": [],
      "source": [
        "import tensorflow.compat.v1 as tf\n",
        "tf.disable_v2_behavior()\n",
        "import numpy as np\n",
        "import matplotlib.pyplot as plt\n",
        "from tensorflow.keras.datasets import mnist\n",
        "from tensorflow.keras.utils import to_categorical"
      ]
    },
    {
      "cell_type": "markdown",
      "id": "86a8349e-e044-420a-8e56-8de358afadbf",
      "metadata": {
        "id": "86a8349e-e044-420a-8e56-8de358afadbf"
      },
      "source": [
        "## 데이터 불러오기"
      ]
    },
    {
      "cell_type": "code",
      "execution_count": null,
      "id": "4610ccbf-22fc-435d-8dfa-57e5ff299726",
      "metadata": {
        "id": "4610ccbf-22fc-435d-8dfa-57e5ff299726"
      },
      "outputs": [],
      "source": [
        "(train_x, train_y), (test_x, test_y) = mnist.load_data()\n",
        "train_x, test_x = train_x / 255.0, test_x / 255.0\n",
        "train_x = train_x.reshape((-1, 28, 28, 1))\n",
        "test_x = test_x.reshape((-1, 28, 28, 1))"
      ]
    },
    {
      "cell_type": "markdown",
      "id": "f05d5cb9-637b-484b-8adc-b18c5bfddfdc",
      "metadata": {
        "id": "f05d5cb9-637b-484b-8adc-b18c5bfddfdc"
      },
      "source": [
        "## 커널 설정"
      ]
    },
    {
      "cell_type": "code",
      "execution_count": null,
      "id": "6b514335-7367-4591-8e79-0572d208f85e",
      "metadata": {
        "id": "6b514335-7367-4591-8e79-0572d208f85e"
      },
      "outputs": [],
      "source": [
        "input_h = 28\n",
        "input_w = 28\n",
        "input_ch = 1\n",
        "\n",
        "k1_h = 3\n",
        "k1_w = 3\n",
        "k1_ch = 32\n",
        "p1_h = 2\n",
        "p1_w = 2\n",
        "\n",
        "k2_h = 3\n",
        "k2_w = 3\n",
        "k2_ch = 64\n",
        "p2_h = 2\n",
        "p2_w = 2\n",
        "\n",
        "k3_h = 3\n",
        "k3_w = 3\n",
        "k3_ch = 128\n",
        "p3_h = 2\n",
        "p3_w = 2\n",
        "\n",
        "# FC1, FC2\n",
        "conv_result_size = 4 * 4 * 128\n",
        "n_hidden1 = 625\n",
        "n_hidden2 = 100\n",
        "n_output = 10"
      ]
    },
    {
      "cell_type": "markdown",
      "id": "c4bb4c55-6f00-462d-b020-d388e0fb0994",
      "metadata": {
        "id": "c4bb4c55-6f00-462d-b020-d388e0fb0994"
      },
      "source": [
        "## 가중치 설정"
      ]
    },
    {
      "cell_type": "code",
      "execution_count": null,
      "id": "9ed42ca2-b981-4baa-a630-87e381c4359f",
      "metadata": {
        "id": "9ed42ca2-b981-4baa-a630-87e381c4359f"
      },
      "outputs": [],
      "source": [
        "weights = {\n",
        "    'conv1': tf.Variable(tf.random.normal([k1_h, k1_w, input_ch, k1_ch], stddev=0.1)),\n",
        "    'conv2': tf.Variable(tf.random.normal([k2_h, k2_w, k1_ch, k2_ch], stddev=0.1)),\n",
        "    'conv3': tf.Variable(tf.random.normal([k3_h, k3_w, k2_ch, k3_ch], stddev=0.1)),\n",
        "    'fc1': tf.Variable(tf.random.normal([conv_result_size, n_hidden1], stddev=0.1)),\n",
        "    'fc2': tf.Variable(tf.random.normal([n_hidden1, n_hidden2], stddev=0.1)),\n",
        "    'output': tf.Variable(tf.random.normal([n_hidden2, n_output], stddev=0.1))\n",
        "}\n",
        "\n",
        "biases = {\n",
        "    'conv1': tf.Variable(tf.random.normal([k1_ch], stddev=0.1)),\n",
        "    'conv2': tf.Variable(tf.random.normal([k2_ch], stddev=0.1)),\n",
        "    'conv3': tf.Variable(tf.random.normal([k3_ch], stddev=0.1)),\n",
        "    'fc1': tf.Variable(tf.random.normal([n_hidden1], stddev=0.1)),\n",
        "    'fc2': tf.Variable(tf.random.normal([n_hidden2], stddev=0.1)),\n",
        "    'output': tf.Variable(tf.random.normal([n_output], stddev=0.1))\n",
        "}\n",
        "\n",
        "x = tf.placeholder(shape=[None, input_h, input_w, input_ch], dtype=tf.float32)\n",
        "y = tf.placeholder(shape=[None, n_output], dtype=tf.float32)"
      ]
    },
    {
      "cell_type": "markdown",
      "id": "e4804fb6-e02a-46f0-9129-3a8725257be6",
      "metadata": {
        "id": "e4804fb6-e02a-46f0-9129-3a8725257be6"
      },
      "source": [
        "## 모델 설계"
      ]
    },
    {
      "cell_type": "code",
      "execution_count": null,
      "id": "2e8973e5-e8a3-443c-8a76-78a386dc1191",
      "metadata": {
        "id": "2e8973e5-e8a3-443c-8a76-78a386dc1191"
      },
      "outputs": [],
      "source": [
        "def net(x, weights, biases):\n",
        "    conv1 = tf.nn.conv2d(x, weights['conv1'], strides=[1,1,1,1], padding='SAME')\n",
        "    conv1 = tf.nn.relu(conv1 + biases['conv1'])\n",
        "    maxp1 = tf.nn.max_pool2d(conv1, ksize=[1, p1_h, p1_w, 1], strides=[1, p1_h, p1_w, 1], padding='SAME')\n",
        "\n",
        "    conv2 = tf.nn.conv2d(maxp1, weights['conv2'], strides=[1,1,1,1], padding='SAME')\n",
        "    conv2 = tf.nn.relu(conv2 + biases['conv2'])\n",
        "    maxp2 = tf.nn.max_pool2d(conv2, ksize=[1, p2_h, p2_w, 1], strides=[1, p2_h, p2_w, 1], padding='SAME')\n",
        "\n",
        "    conv3 = tf.nn.conv2d(maxp2, weights['conv3'], strides=[1,1,1,1], padding='SAME')\n",
        "    conv3 = tf.nn.relu(conv3 + biases['conv3'])\n",
        "    maxp3 = tf.nn.max_pool2d(conv3, ksize=[1, p3_h, p3_w, 1], strides=[1, p3_h, p3_w, 1], padding='SAME')\n",
        "\n",
        "    flatten = tf.reshape(maxp3, [-1, conv_result_size])\n",
        "\n",
        "    fc1 = tf.nn.relu(tf.matmul(flatten, weights['fc1']) + biases['fc1'])\n",
        "    fc2 = tf.nn.relu(tf.matmul(fc1, weights['fc2']) + biases['fc2'])\n",
        "    output = tf.matmul(fc2, weights['output']) + biases['output']\n",
        "    return output"
      ]
    },
    {
      "cell_type": "markdown",
      "id": "45ed9eda-552d-4565-927c-6379048290c2",
      "metadata": {
        "id": "45ed9eda-552d-4565-927c-6379048290c2"
      },
      "source": [
        "## 하이퍼파라미터, 손실함수 설정"
      ]
    },
    {
      "cell_type": "code",
      "execution_count": null,
      "id": "b09762e9-3509-493f-829d-4bd7ccbcb198",
      "metadata": {
        "id": "b09762e9-3509-493f-829d-4bd7ccbcb198"
      },
      "outputs": [],
      "source": [
        "LR = 0.0001\n",
        "pred = net(x, weights, biases)\n",
        "loss = tf.reduce_mean(tf.nn.softmax_cross_entropy_with_logits_v2(logits=pred, labels=y))\n",
        "optm = tf.train.AdamOptimizer(learning_rate=LR).minimize(loss)"
      ]
    },
    {
      "cell_type": "markdown",
      "id": "922d92d6-c30c-442e-bbee-ffa7f1e9e375",
      "metadata": {
        "id": "922d92d6-c30c-442e-bbee-ffa7f1e9e375"
      },
      "source": [
        "## 학습"
      ]
    },
    {
      "cell_type": "code",
      "execution_count": null,
      "id": "58b24122-682e-42a3-9491-61a4a70876e7",
      "metadata": {
        "id": "58b24122-682e-42a3-9491-61a4a70876e7",
        "outputId": "d5b12c0a-b85a-44fd-b6af-7635332e2ec3"
      },
      "outputs": [
        {
          "name": "stdout",
          "output_type": "stream",
          "text": [
            "Iter : 0\n",
            "Train Loss : 4.4120\n",
            "Test Loss : 3.5132\n",
            "Iter : 250\n",
            "Train Loss : 0.3958\n",
            "Test Loss : 0.1863\n",
            "Iter : 500\n",
            "Train Loss : 0.1792\n",
            "Test Loss : 0.2206\n",
            "Iter : 750\n",
            "Train Loss : 0.0409\n",
            "Test Loss : 0.0759\n",
            "Iter : 1000\n",
            "Train Loss : 0.1597\n",
            "Test Loss : 0.1787\n",
            "Iter : 1250\n",
            "Train Loss : 0.1996\n",
            "Test Loss : 0.0767\n",
            "Iter : 1500\n",
            "Train Loss : 0.0347\n",
            "Test Loss : 0.0929\n",
            "Iter : 1750\n",
            "Train Loss : 0.0773\n",
            "Test Loss : 0.0593\n",
            "Iter : 2000\n",
            "Train Loss : 0.0364\n",
            "Test Loss : 0.1101\n",
            "Iter : 2250\n",
            "Train Loss : 0.0517\n",
            "Test Loss : 0.0376\n"
          ]
        }
      ],
      "source": [
        "n_batch = 50\n",
        "n_iter = 2500\n",
        "n_prt = 250\n",
        "\n",
        "sess = tf.Session()\n",
        "sess.run(tf.global_variables_initializer())\n",
        "\n",
        "loss_record_train = []\n",
        "loss_record_test = []\n",
        "\n",
        "for epoch in range(n_iter):\n",
        "    idx = np.random.choice(train_x.shape[0], n_batch, replace=False)\n",
        "    batch_x = train_x[idx]\n",
        "    batch_y = to_categorical(train_y[idx], num_classes=10)\n",
        "\n",
        "    sess.run(optm, feed_dict={x: batch_x, y: batch_y})\n",
        "\n",
        "    if epoch % n_prt == 0:\n",
        "        t_idx = np.random.choice(test_x.shape[0], n_batch, replace=False)\n",
        "        test_batch_x = test_x[t_idx]\n",
        "        test_batch_y = to_categorical(test_y[t_idx], num_classes=10)\n",
        "\n",
        "        train_loss = sess.run(loss, feed_dict={x: batch_x, y: batch_y})\n",
        "        test_loss = sess.run(loss, feed_dict={x: test_batch_x, y: test_batch_y})\n",
        "\n",
        "        loss_record_train.append(train_loss)\n",
        "        loss_record_test.append(test_loss)\n",
        "\n",
        "        print(\"Iter : {}\".format(epoch))\n",
        "        print(\"Train Loss : {:.4f}\".format(train_loss))\n",
        "        print(\"Test Loss : {:.4f}\".format(test_loss))"
      ]
    },
    {
      "cell_type": "markdown",
      "id": "e98ff47d-02ca-49e0-94b9-c2d2c698942d",
      "metadata": {
        "id": "e98ff47d-02ca-49e0-94b9-c2d2c698942d"
      },
      "source": [
        "## 로스 시각화"
      ]
    },
    {
      "cell_type": "code",
      "execution_count": null,
      "id": "607295f1-225e-433d-ada3-6cf96c6708b8",
      "metadata": {
        "id": "607295f1-225e-433d-ada3-6cf96c6708b8",
        "outputId": "555d0cf5-0431-409d-bbfe-d7bc08d5867d"
      },
      "outputs": [
        {
          "data": {
            "image/png": "[encoded data removed]",
            "text/plain": [
              "<Figure size 1000x600 with 1 Axes>"
            ]
          },
          "metadata": {},
          "output_type": "display_data"
        }
      ],
      "source": [
        "plt.figure(figsize=(10, 6))\n",
        "plt.plot(np.arange(len(loss_record_train)) * n_prt, loss_record_train, 'r', label='Train Loss')\n",
        "plt.plot(np.arange(len(loss_record_test)) * n_prt, loss_record_test, 'b', label='Test Loss')\n",
        "plt.xlabel('Iteration')\n",
        "plt.ylabel('Loss')\n",
        "plt.title('Loss Curve (Train vs Test)')\n",
        "plt.legend()\n",
        "plt.grid(True)\n",
        "plt.ylim([0, np.max(loss_record_train)])\n",
        "plt.show()"
      ]
    },
    {
      "cell_type": "markdown",
      "id": "c41c1a63-9b86-468b-99cf-b60fb361f14e",
      "metadata": {
        "id": "c41c1a63-9b86-468b-99cf-b60fb361f14e"
      },
      "source": [
        "## 정확도 출력"
      ]
    },
    {
      "cell_type": "code",
      "execution_count": null,
      "id": "0fbe3557-7f62-4a54-82cf-56a6689f2f81",
      "metadata": {
        "id": "0fbe3557-7f62-4a54-82cf-56a6689f2f81",
        "outputId": "18686d57-0d25-477b-fb5d-1fa08640358f"
      },
      "outputs": [
        {
          "name": "stdout",
          "output_type": "stream",
          "text": [
            "Accuracy : 100.0\n"
          ]
        }
      ],
      "source": [
        "test_batch_indices = np.random.choice(test_x.shape[0], size=n_batch, replace=False)\n",
        "test_batch_x = test_x[test_batch_indices]\n",
        "test_batch_y = test_y[test_batch_indices]\n",
        "\n",
        "test_batch_x = test_batch_x.reshape((n_batch, input_h, input_w, input_ch))\n",
        "test_batch_y = tf.keras.utils.to_categorical(test_batch_y, num_classes=10)\n",
        "\n",
        "my_pred = sess.run(pred, feed_dict={x: test_batch_x.reshape(-1, 28, 28, 1)})\n",
        "my_pred = np.argmax(my_pred, axis=1)\n",
        "\n",
        "labels = np.argmax(test_batch_y, axis=1)\n",
        "\n",
        "accr = np.mean(np.equal(my_pred, labels))\n",
        "print(\"Accuracy : {}\".format(accr*100))"
      ]
    },
    {
      "cell_type": "markdown",
      "id": "96c4594c-1f5d-472f-b15b-675c1428f263",
      "metadata": {
        "id": "96c4594c-1f5d-472f-b15b-675c1428f263"
      },
      "source": [
        "# 정확도 비교\n",
        "- layer를 추가하면 정확도는 더 높아진다.\n",
        "- 96 -> 100"
      ]
    }
  ],
  "metadata": {
    "kernelspec": {
      "display_name": "Python 3 (ipykernel)",
      "language": "python",
      "name": "python3"
    },
    "language_info": {
      "codemirror_mode": {
        "name": "ipython",
        "version": 3
      },
      "file_extension": ".py",
      "mimetype": "text/x-python",
      "name": "python",
      "nbconvert_exporter": "python",
      "pygments_lexer": "ipython3",
      "version": "3.11.7"
    },
    "colab": {
      "provenance": [],
      "include_colab_link": true
    }
  },
  "nbformat": 4,
  "nbformat_minor": 5
}